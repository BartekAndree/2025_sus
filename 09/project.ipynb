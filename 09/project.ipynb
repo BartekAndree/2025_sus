{
 "cells": [
  {
   "cell_type": "markdown",
   "id": "898d01d4",
   "metadata": {},
   "source": [
    "#### 1.\n",
    "\n",
    "Przypomnij sobie z wykładu, w jaki sposób możemy łączyć klasyfikatory ze sobą (kilka architektur) oraz co jest niezbędne (jakie warunki muszą być spełnione) do tego, żeby takie połączenia działały skuteczniej od ich elementów składowych.\n",
    "\n",
    "Nawiązując do informacji z wykładu przeczytaj dokumentację pakietu scikit-learn na temat metod zespołowych w klasyfikacji (pomiń regresję; skup się tylko na BaggingClassifier, RandomForestClassifier, AdaBoostClassifier, VotingClassifier i StackingClassifier).\n",
    "\n",
    "Pobierz zbiór danych o nazwie odpowiadającej Twojemu numerowi albumu i przeprowadź jego wstępną eksplorację: \n",
    "1. proporcja klas, \n",
    "1. liczba i rodzaje atrybutów, \n",
    "1. ich zakresy i rozkłady wartości. \n",
    "\n",
    "Pokaż rozkłady wartości wszystkich atrybutów obok siebie na jednym szerokim wykresie pudełkowym lub skrzypcowym; na osi poziomej umieść nazwy atrybutów. Opisując wnioski (wystarczy kilka zdań) możesz pogrupować (o ile to możliwe) atrybuty pisząc np. \"73 atrybuty są takie a takie, 22 atrybuty charakteryzują się tym a tym, wyjątkowy jest atrybut taki a taki\", itp."
   ]
  }
 ],
 "metadata": {
  "language_info": {
   "name": "python"
  }
 },
 "nbformat": 4,
 "nbformat_minor": 5
}
