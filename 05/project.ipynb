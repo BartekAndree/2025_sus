{
 "cells": [
  {
   "metadata": {},
   "cell_type": "markdown",
   "source": [
    "### Ogólne podpowiedzi do wszelkich dalszych raportów:\n",
    "\n",
    "1. Najważniejsze w każdej odpowiedzi są interpretacje uzyskanych rezultatów, wnioski i uzasadnienia. Zamieszczenie rezultatów liczbowych służy uzasadnieniu wniosków; surowe rezultaty bez interpretacji autora są bezwartościowe.\n",
    "Zatem nie stosujemy takiego podejścia: \"Zamieściłem wykres i widzę na nim, że trafność rośnie, więc nie muszę tego pisać\" albo \"Podałem dwie liczby i widzę z nich, że jedna klasa jest 5x bardziej liczna od drugiej, więc nie muszę tego pisać\".\n",
    "Nie podajemy też samych wniosków tekstowych bez podparcia konkretnymi wynikami.\n",
    "2. Wykresy zwykle lepiej i zwięźlej pokazują wyniki, niż duże tabele liczb.\n",
    "3. Aby uniknąć pustych marginesów na wykresach, do każdego z nich używaj tight layout.\n",
    "4. Nadawaj informatywne nazwy plikom z obrazkami (\"drzewa_dec_trafnosc.png\" zamiast \"wykres3.png\" albo \"Download_18.png\").\n",
    "5. Podając liczby zwracaj uwagę na odpowiednia (uzasadnioną) liczbę miejsc znaczących – zwykle nie potrzeba 5, 10, a tym bardziej 15 miejsc po przecinku.\n",
    "6. Unikaj nieuzasadnionych, subiektywnych określeń (\"dużo\", \"bardzo słabe\") – żeby podeprzeć takie oceny, podawaj również konkretne wartości.\n",
    "7. Wyrażaj się precyzyjnie i jednoznacznie; używaj terminologii uczenia maszynowego (\"atrybuty\" zamiast \"kolumny\", \"przypadek\" zamiast \"element\").\n",
    "8. Unikaj mieszania języków (\"clustrowanie\", \"model overfituje\", \"w drzewie były dwa splity\", \"przypadki nie mają labeli\", \"dane olabelowane\", \"zaawansowane setupy\", \"wartości zostały przeprocesowane\", \"w tym datasecie\") – jeśli koniecznie chcesz użyć angielskiego terminu, bo nie ma dobrego polskiego odpowiednika, nie odmieniaj go i pisz takie wyjątkowe słowa italikiem (\"zachodzi overfitting\" – chociaż tu akurat jest dobry odpowiednik).\n",
    "9. Przygotowuj odpowiedzi samodzielnie (trudno \"odzobaczyć\" to, co już się zobaczyło – ryzyko plagiatu).\n",
    "10. Kopiowanie i wklejanie na eKursach: jeśli nie działa Ctrl-C/Ctrl-V, spróbuj Ctrl-Insert/Shift-Insert.\n",
    "\n",
    "---"
   ],
   "id": "d80c348e619836e1"
  },
  {
   "metadata": {},
   "cell_type": "markdown",
   "source": [
    "### Zadanie 1.\n",
    "\n",
    "Przypomnij sobie z wykładów oraz z wcześniejszych przedmiotów nawiązujących do tematyki uczenia maszynowego i analizy danych, jakie techniki służą do rozwiązania zadania regresji dla wielowymiarowych danych. To zadanie nie podlega ocenie; zastanów się i wpisz tutaj nazwy wszystkich algorytmów, które przychodzą Ci do głowy."
   ],
   "id": "f31937a6861aad3c"
  },
  {
   "metadata": {},
   "cell_type": "markdown",
   "source": [
    "### Odpowiedź 1.\n",
    "\n",
    "- Regresja liniowa\n",
    "- k-NN\n",
    "- Drzewa decyzyjne\n",
    "- Random Forest\n",
    "- SVR\n",
    "- Sieci neuronowe"
   ],
   "id": "dfbb2485b886fbf8"
  },
  {
   "metadata": {},
   "cell_type": "markdown",
   "source": [
    "### Zadanie 2.\n",
    "\n",
    "Pobierz zbiór danych o nazwie odpowiadającej Twojemu numerowi albumu. Te dane dotyczą wykrywania anomalii (zakłóceń) w sygnale audio; każdy wiersz opisuje inne wystąpienie anomalii, a ostatnia kolumna to szerokość zakłócenia (liczba próbek). Pozostałe kolumny to różne statystyki zebrane z otoczenia zakłócenia; pierwszy wiersz zawiera skrótowe nazwy kolumn. Szczegółowy opis znaczenia atrybutów znajdziesz tutaj. Możesz wczytać plik używając dane = np.genfromtxt(nazwa_pliku, skip_header=1) albo parametru names=True (wtedy uwaga).\n",
    "\n",
    "Przeprowadź jego wstępną eksplorację: liczba i rodzaje atrybutów, ich zakresy i rozkłady wartości. Pokaż rozkłady wartości wszystkich atrybutów warunkowych obok siebie na jednym szerokim wykresie pudełkowym lub skrzypcowym; na osi poziomej umieść nazwy atrybutów. Opisując wnioski (wystarczy kilka zdań) możesz pogrupować (o ile to możliwe) atrybuty pisząc np. \"73 atrybuty są takie a takie, 22 atrybuty charakteryzują się tym a tym, wyjątkowy jest atrybut taki a taki\", itp."
   ],
   "id": "ebe51c9493c9e670"
  },
  {
   "metadata": {},
   "cell_type": "markdown",
   "source": "### Odpowiedź 2.",
   "id": "4ca50e4f5da6f62c"
  },
  {
   "metadata": {},
   "cell_type": "markdown",
   "source": [
    "### Zadanie 3.\n",
    "\n",
    "Przejrzyj dostępne metryki oceny modeli regresji. Które z nich wydają Ci się łatwe do interpretacji i dlaczego? Weź pod uwagę konkretny problem, którym się zajmujemy (predykcja ostatniej kolumny w zbiorze i znaczenie tej kolumny). Wybierz dwie metryki, które Twoim zdaniem niosą użyteczną informację o jakości modelu w rozpatrywanym problemie (jeśli masz ochotę, możesz wybrać więcej niż dwie). W kolejnych pytaniach oznaczam te metryki jako M1 i M2. Uzasadnij swój wybór."
   ],
   "id": "660cab7db7edd2ac"
  },
  {
   "metadata": {},
   "cell_type": "markdown",
   "source": "### Odpowiedź 3.",
   "id": "43c96badd4a6e3e2"
  },
  {
   "metadata": {},
   "cell_type": "markdown",
   "source": [
    "### Zadanie 4.\n",
    "\n",
    "Do dalszych testów użyjemy następujących technik:\n",
    "\n",
    "    from sklearn import linear_model\n",
    "    from sklearn import neighbors  # KNeighborsRegressor\n",
    "    from sklearn.tree import DecisionTreeRegressor\n",
    "    from sklearn.neural_network import MLPRegressor\n",
    "    from sklearn.svm import SVR\n",
    "Przejrzyj dokumentację scikit-learn i napisz, jakie jeszcze dostępne tam i znane Ci metody mogłyby posłużyć do zbudowania modeli regresji."
   ],
   "id": "afa0b734441edf17"
  },
  {
   "metadata": {},
   "cell_type": "markdown",
   "source": "### Odpowiedź 4.",
   "id": "f3d5ff1b12077c1d"
  },
  {
   "metadata": {},
   "cell_type": "markdown",
   "source": [
    "### Zadanie 5.\n",
    "\n",
    "Porównaj metody wymienione w treści poprzedniego pytania (jeśli masz ochotę, możesz dodatkowo przetestować jeszcze inne) pod kątem M1 oraz M2 dla całego zbioru danych (bez podziału uczący–testujący). Użyj domyślnych wartości parametrów (jeśli masz ochotę, poeksperymentuj z doborem parametrów; użyj też nie-domyślnych wartości wtedy, kiedy uważasz, że domyślne wartości nie mają sensu w tym zastosowaniu lub są niepoprawne). Dla SVR porównaj kernel liniowy i RBF. Dla drzew decyzyjnych użyj max_depth=2 (co się dzieje, kiedy nie ograniczymy głębokości?).\n",
    "\n",
    "Załącz dwa wykresy (jeden dla M1 i jeden dla M2) porównujące powyższe metody. Opisz wnioski.\n",
    "\n",
    "Fragmenty kodu, które mogą się przydać:\n",
    "\n",
    "    print(dane.shape)\n",
    "    Xregr=dane[:,0:-1]\n",
    "    yregr=dane[:,-1]\n",
    "    from sklearn.metrics import mean_absolute_error  # przykład dla R2 i MAE\n",
    "    print_metrics = lambda regresor,opis,X,y: print(opis,':  R^2=%.2f,'%regresor.score(X, y),\n",
    "                                     ' MAE=%.1f'%mean_absolute_error(y, regresor.predict(X)))\n",
    "    regr = neighbors.KNeighborsRegressor()\n",
    "    regr.fit(Xregr, yregr)\n",
    "    print_metrics(regr,'KNeighborsRegressor',Xregr,yregr)"
   ],
   "id": "52f716f9ff03fd54"
  },
  {
   "metadata": {},
   "cell_type": "markdown",
   "source": "### Odpowiedź 5.",
   "id": "37fbfd3a3ae7ecfc"
  },
  {
   "metadata": {},
   "cell_type": "markdown",
   "source": [
    "### Zadanie 6.\n",
    "\n",
    "Które z metod wykorzystanych w poprzednim zadaniu wymagają normalizacji/standaryzacji danych i nie powinniśmy ich używać na surowych danych? Dlaczego tak jest, w czym tkwi niebezpieczeństwo? Rozszerz wykresy z poprzedniego zadania o wyniki poprawnie użytych metod oraz zinterpretuj efekt wykorzystania normalizacji.\n",
    "\n",
    "Fragmenty kodu, które mogą się przydać:\n",
    "\n",
    "    from sklearn.pipeline import make_pipeline\n",
    "    from sklearn.preprocessing import StandardScaler  # albo inny, bardziej odpowiedni\n",
    "    regr = make_pipeline(StandardScaler(), SVR(ewentualniejakiesparametry))"
   ],
   "id": "35642bcac6a48d81"
  },
  {
   "metadata": {},
   "cell_type": "markdown",
   "source": "### Odpowiedź 6.",
   "id": "c3b97ca575d12163"
  },
  {
   "metadata": {},
   "cell_type": "markdown",
   "source": [
    "### Zadanie 7.\n",
    "\n",
    "Wybierz Twoim zdaniem najlepszy model regresji. Napisz, na jakiej podstawie go wybrałeś/wybrałaś i co nam daje takie kryterium \"najlepszości\". Załącz wykres, w którym na osi poziomej są faktyczne wartości zmiennej zależnej, a na osi pionowej – to, co przewiduje wybrany model regresji. Postaraj się, żeby wykres był czytelny i przydatny (zamiast zaproponowanego wykresu możesz przygotować inny, który lepiej pokaże błędy popełniane przez model na poszczególnych przypadkach) oraz opisz wnioski z tej wizualizacji."
   ],
   "id": "eba6a2e60ce6443e"
  },
  {
   "metadata": {},
   "cell_type": "markdown",
   "source": "### Odpowiedź 7.",
   "id": "9d8fd84dbe2c26c"
  },
  {
   "metadata": {},
   "cell_type": "markdown",
   "source": [
    "### Zadanie 8.\n",
    "\n",
    "Który z wytworzonych modeli regresji jest najlepiej interpretowalny dla człowieka? Spróbuj go zwizualizować (sam model) i zinterpretuj, jak on działa (jego \"wiedzę\"); możesz tutaj wykorzystać specjalnie dobrane wartości parametrów, żeby wytworzyć jeszcze lepiej interpretowalny model bez dużej utraty jego jakości.\n",
    "\n",
    "Zostaw sobie na przyszłość komentarze w kodzie; ten model i dane będą jeszcze używane na ostatnich zajęciach."
   ],
   "id": "7be169c656639fb0"
  },
  {
   "metadata": {},
   "cell_type": "markdown",
   "source": "### Odpowiedź 8.",
   "id": "4788e0015b7645e6"
  },
  {
   "metadata": {},
   "cell_type": "markdown",
   "source": [
    "### Zadanie 9.\n",
    "\n",
    "Oceń zdolność predykcji modeli tego samego rodzaju (te same algorytmy i wartości parametrów), co utworzone wcześniej, używając 10-krotnej kroswalidacji (uwaga). Sporządź i załącz dwa analogiczne wykresy (M1 i M2; możesz pokazać obok siebie wartości tych metryk dla całego zbioru i średnie z kroswalidacji). Czy te rodzaje modeli, które najlepiej sprawdzały się dla całego zbioru danych to te same rodzaje, które najlepiej przewidują wartości atrybutu decyzyjnego na zbiorze testowym?\n",
    "\n",
    "Przed wysłaniem całego quizu przejrzyj jeszcze raz listę podpowiedzi z pytania 1."
   ],
   "id": "fb081a4a7c01339b"
  },
  {
   "metadata": {},
   "cell_type": "markdown",
   "source": "### Odpowiedź 9.",
   "id": "2ae76bcd7c51e93"
  }
 ],
 "metadata": {
  "kernelspec": {
   "display_name": "Python 3",
   "language": "python",
   "name": "python3"
  },
  "language_info": {
   "codemirror_mode": {
    "name": "ipython",
    "version": 2
   },
   "file_extension": ".py",
   "mimetype": "text/x-python",
   "name": "python",
   "nbconvert_exporter": "python",
   "pygments_lexer": "ipython2",
   "version": "2.7.6"
  }
 },
 "nbformat": 4,
 "nbformat_minor": 5
}
