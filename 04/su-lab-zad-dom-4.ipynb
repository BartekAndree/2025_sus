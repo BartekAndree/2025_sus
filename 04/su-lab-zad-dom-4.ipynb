{
 "cells": [
  {
   "cell_type": "markdown",
   "source": [
    "# Systemy uczące się - Zad. dom. 4: Ocena modeli predykcyjnych\n",
    "\n",
    "### Autor rozwiązania\n",
    "Uzupełnij poniższe informacje umieszczając swoje imię i nazwisko oraz numer indeksu:"
   ],
   "metadata": {
    "collapsed": false
   },
   "id": "69e52298440c6e3b"
  },
  {
   "cell_type": "code",
   "execution_count": null,
   "outputs": [],
   "source": [
    "NAME = \"Imię Nazwisko\"\n",
    "ID = \"Numer indeksu\""
   ],
   "metadata": {
    "collapsed": false
   },
   "id": "e47ff80fe053b100"
  },
  {
   "cell_type": "markdown",
   "source": [
    "Ten notebook zawiera zadania związane z oceną modeli predykcyjnych. Oprócz zadań programistycznych, notebook zawira również pytania, na które trzeba odpowiedzieć. Odpowiedzi nie muszą być długie, ale powinny być merytoryczne i odnosić się do omawianych zagadnień. W tym zadaniu domowym należy odpowiedzieć na WSZYSTKIE pytania.\n",
    "\n",
    "\n",
    "## Format danych\n",
    "W tym zadaniu domyślnym typem danych będą macierze (`np.ndarray`) o rozmiarze `(n, c)`, gdzie `n` to liczba obserwacji, a `c` to liczba klas. Wartości w macierzy będą reprezentować:\n",
    "\n",
    "- w przypadku `y` - prawdziwe klasy (wartości binarne). Na przykład:\n",
    "    ```\n",
    "    [\n",
    "        [1, 0, 0],\n",
    "        [0, 0, 1],\n",
    "        [1, 0, 0],\n",
    "    ]\n",
    "    ```\n",
    "    oznacza, że pierwsza i trzecia obserwacja należą do klasy 0, a druga do klasy 2. \n",
    "\n",
    "- w przypadku `y_hat` - predykcje modelu. Wartości w macierzy mogą reprezentować:\n",
    "    * prawdopodobieństwa przynależności do danej klasy (wartości z przedziału `[0, 1]`). Na przykład:\n",
    "        ```\n",
    "        [\n",
    "            [0.9, 0.1, 0.0],\n",
    "            [0.1, 0.2, 0.7],\n",
    "            [0.8, 0.2, 0.0],\n",
    "        ]\n",
    "        ```\n",
    "        oznacza, że model przewiduje, że pierwsza obserwacja należy do klasy 0 z prawdopodobieństwem 0.9, a do klasy 1 z prawdopodobieństwem 0.1.\n",
    "    \n",
    "    * predykcje (wartości binarne), gdzie wartość `1` oznacza przynależność do danej klasy, a wartość `0` jej brak.\n",
    "        ```\n",
    "        [\n",
    "            [0, 1, 0],\n",
    "            [0, 0, 1],\n",
    "            [0, 1, 0],\n",
    "        ]\n",
    "        ```\n",
    "        oznacza, że model przewiduje, że pierwsza obserwacja należy do klasy 1, a druga do klasy 2."
   ],
   "metadata": {
    "collapsed": false
   },
   "id": "bdd51e80a7d4374d"
  },
  {
   "cell_type": "markdown",
   "source": [
    "# Zadanie 1: Punktowe miary oceny klasyfikatorów\n",
    "\n",
    "Zadanie polega na zaimplementowaniu funkcji obliczających punktowe miary oceny klasyfikatorów, takich jak:\n",
    "- dokładność (accuracy),\n",
    "- precyzja (precision),\n",
    "- czułość (recall),\n",
    "- specyficzność (specificity),\n",
    "- F1,\n",
    "- G-mean,\n",
    "- balanced accuracy.\n",
    "\n",
    "Uwagi:\n",
    "- Do rozwiązania zadania można wykorzystać wyłącznie bibliotekę `numpy`.\n",
    "- Na potrzeby zadania domowego można założyć, że klasyfikacja jest wieloklasowa, ale jednoetykietowa (tj. każda obserwacja należy do dokładnie jednej klasy).\n",
    "- W przypadku, gdy mianownik w równaniu miary oceny jest równy 0, wartość miary powinna wynosić 0.\n",
    "- Podpowiedź: przy obliczaniu wielu miar warto zaimplementować funkcję pomocniczą, która oblicza macierz pomyłek."
   ],
   "metadata": {
    "collapsed": false
   },
   "id": "c19a9bbaf859afd4"
  },
  {
   "cell_type": "code",
   "execution_count": null,
   "outputs": [],
   "source": [
    "from typing import Literal\n",
    "\n",
    "import numpy as np"
   ],
   "metadata": {
    "collapsed": false
   },
   "id": "cd9fa7c6262a1e77"
  },
  {
   "cell_type": "code",
   "execution_count": null,
   "outputs": [],
   "source": [
    "y = np.eye(2, dtype=int)[np.repeat([0, 1], 50)]\n",
    "y_hat_0 = np.tile([1, 0], (100, 1))\n",
    "y_hat_1 = np.tile([0, 1], (100, 1))"
   ],
   "metadata": {
    "collapsed": false
   },
   "id": "4816126ba546c472"
  },
  {
   "cell_type": "code",
   "execution_count": null,
   "outputs": [],
   "source": [
    "def accuracy(y_hat: np.ndarray, y: np.ndarray) -> float:\n",
    "    \"\"\"Funkcja obliczająca dokładność klasyfikacji (accuracy). Funkcja powinna wspierać klasyfikację wieloklasową.\n",
    "    \n",
    "    Args:\n",
    "        y_hat (np.ndarray): Macierz z predykacjami modelu o wymiarach `(n, c)`.\n",
    "        y (np.ndarray): Macierz z prawdziwymi klasami o wymiarach `(n, c)`.\n",
    "        \n",
    "    Returns:\n",
    "        float: Dokładność klasyfikacji.\n",
    "    \"\"\"\n",
    "    # TODO: zaimplementuj funkcję\n",
    "    ..."
   ],
   "metadata": {
    "collapsed": false
   },
   "id": "551cb44f628f171f"
  },
  {
   "cell_type": "code",
   "execution_count": null,
   "outputs": [],
   "source": [
    "def precision(y_hat: np.ndarray, y: np.ndarray, average: Literal[\"micro\", \"macro\"] = \"micro\") -> float:\n",
    "    \"\"\"Funkcja obliczająca precyzję klasyfikacji (precision). Funkcja powinna wspierać klasyfikację wieloklasową.\n",
    "    \n",
    "    Args:\n",
    "        y_hat (np.ndarray): Macierz z predykacjami modelu o wymiarach `(n, c)`. \n",
    "        y (np.ndarray): Macierz z prawdziwymi klasami o wymiarach `(n, c)`. \n",
    "        average (\"micro\" | \"macro\"): Typ uśredniania wyników. Domyślnie \"micro\".\n",
    "        \n",
    "    Returns:\n",
    "        float: Precyzja klasyfikacji.\n",
    "    \"\"\"\n",
    "    # TODO: zaimplementuj funkcję\n",
    "    ..."
   ],
   "metadata": {
    "collapsed": false
   },
   "id": "c540cf06bcdebb6d"
  },
  {
   "cell_type": "code",
   "execution_count": null,
   "outputs": [],
   "source": [
    "def recall(y_hat: np.ndarray, y: np.ndarray, average: Literal[\"micro\", \"macro\"] = \"micro\") -> float:\n",
    "    \"\"\"Funkcja obliczająca czułość klasyfikacji (recall). Funkcja powinna wspierać klasyfikację wieloklasową.\n",
    "    \n",
    "    Args:\n",
    "        y_hat (np.ndarray): Macierz z predykacjami modelu o wymiarach `(n, c)`. \n",
    "        y (np.ndarray): Macierz z prawdziwymi klasami o wymiarach `(n, c)`. \n",
    "        average (\"micro\" | \"macro\"): Typ uśredniania wyników. Domyślnie \"micro\".\n",
    "        \n",
    "    Returns:\n",
    "        float: Precyzja klasyfikacji.\n",
    "    \"\"\"\n",
    "    # TODO: zaimplementuj funkcję\n",
    "    ..."
   ],
   "metadata": {
    "collapsed": false
   },
   "id": "f9c8d8ce619ceca9"
  },
  {
   "cell_type": "code",
   "execution_count": null,
   "outputs": [],
   "source": [
    "def specificity(y_hat: np.ndarray, y: np.ndarray, average: Literal[\"micro\", \"macro\"] = \"micro\") -> float:\n",
    "    \"\"\"Funkcja obliczająca specyficzność klasyfikacji (specificity). Funkcja powinna wspierać klasyfikację wieloklasową.\n",
    "    \n",
    "    Args:\n",
    "        y_hat (np.ndarray): Macierz z predykacjami modelu o wymiarach `(n, c)`. \n",
    "        y (np.ndarray): Macierz z prawdziwymi klasami o wymiarach `(n, c)`. \n",
    "        average (\"micro\" | \"macro\"): Typ uśredniania wyników. Domyślnie \"micro\".\n",
    "        \n",
    "    Returns:\n",
    "        float: Specyficzność klasyfikacji.\n",
    "    \"\"\"\n",
    "    # TODO: zaimplementuj funkcję\n",
    "    ..."
   ],
   "metadata": {
    "collapsed": false
   },
   "id": "acd7d74d04dea13f"
  },
  {
   "cell_type": "markdown",
   "source": [
    "Zatrzymaj się w tym miejscu na chwilę i poeksperymentuj z dotychczas zaimplementowanymi funkcjami i danymi testowymi. Spróbuj zrozumieć, jak działają poszczególne miary oceny klasyfikatorów. Możesz ograniczyć się do uśredniania wyników \"micro\"."
   ],
   "metadata": {
    "collapsed": false
   },
   "id": "a3319f698d1d7d77"
  },
  {
   "cell_type": "code",
   "execution_count": null,
   "outputs": [],
   "source": [
    "# Miejsce na eksperymenty"
   ],
   "metadata": {
    "collapsed": false
   },
   "id": "a46197729b7aadf5"
  },
  {
   "cell_type": "markdown",
   "source": [
    "Odpowiedz na pytanie\n",
    "\n",
    "1. Czy zaimplementowane funkcje mogą być wystarczające do oceny modeli klasyfikacyjnych? Jeśli nie, to dlaczego? Jeśli tak, to w jakich przypadkach?\n",
    "\n",
    "[TODO: Twoja odpowiedź]"
   ],
   "metadata": {
    "collapsed": false
   },
   "id": "ba83186dc89ad616"
  },
  {
   "cell_type": "code",
   "execution_count": null,
   "outputs": [],
   "source": [
    "def f1(y_hat: np.ndarray, y: np.ndarray, average: Literal[\"micro\", \"macro\"] = \"micro\") -> float:\n",
    "    \"\"\"Funkcja obliczająca miarę F1. Funkcja powinna wspierać klasyfikację wieloklasową.\n",
    "    \n",
    "    Args:\n",
    "        y_hat (np.ndarray): Macierz z predykacjami modelu o wymiarach `(n, c)`. \n",
    "        y (np.ndarray): Macierz z prawdziwymi klasami o wymiarach `(n, c)`. \n",
    "        average (\"micro\" | \"macro\"): Typ uśredniania wyników. Domyślnie \"micro\".\n",
    "        \n",
    "    Returns:\n",
    "        float: Specyficzność klasyfikacji.\n",
    "    \"\"\"\n",
    "    # TODO: zaimplementuj funkcję\n",
    "    ..."
   ],
   "metadata": {
    "collapsed": false
   },
   "id": "c66035216d71904e"
  },
  {
   "cell_type": "code",
   "execution_count": null,
   "outputs": [],
   "source": [
    "def g_mean(y_hat: np.ndarray, y: np.ndarray) -> float:\n",
    "    \"\"\"Funkcja obliczająca miarę G-mean. Funkcja powinna wspierać klasyfikację wieloklasową.\n",
    "    \n",
    "    Args:\n",
    "        y_hat (np.ndarray): Macierz z predykacjami modelu o wymiarach `(n, c)`. \n",
    "        y (np.ndarray): Macierz z prawdziwymi klasami o wymiarach `(n, c)`. \n",
    "        \n",
    "    Returns:\n",
    "        float: Specyficzność klasyfikacji.\n",
    "    \"\"\"\n",
    "    # TODO: zaimplementuj funkcję\n",
    "    ..."
   ],
   "metadata": {
    "collapsed": false
   },
   "id": "dde129f8a3d82ffa"
  },
  {
   "cell_type": "code",
   "execution_count": null,
   "outputs": [],
   "source": [
    "def balanced_accuracy(y_hat: np.ndarray, y: np.ndarray) -> float:\n",
    "    \"\"\"Funkcja obliczająca zbalansowaną dokładność klasyfikacji. Funkcja powinna wspierać klasyfikację wieloklasową.\n",
    "    \n",
    "    Args:\n",
    "        y_hat (np.ndarray): Macierz z predykacjami modelu o wymiarach `(n, c)`. \n",
    "        y (np.ndarray): Macierz z prawdziwymi klasami o wymiarach `(n, c)`. \n",
    "        \n",
    "    Returns:\n",
    "        float: Zbalansowana dokładność klasyfikacji.\n",
    "    \"\"\"\n",
    "    # TODO: zaimplementuj funkcję\n",
    "    ..."
   ],
   "metadata": {
    "collapsed": false
   },
   "id": "8df6ca37c55b18c9"
  },
  {
   "cell_type": "markdown",
   "source": [
    "Sprawdź jak zaimplementowane funkcje działają na 3 zbiorach testowych o różnej charakterystyce.\n",
    "\n",
    "### Scenariusz 1"
   ],
   "metadata": {
    "collapsed": false
   },
   "id": "c62385205b51daab"
  },
  {
   "cell_type": "code",
   "execution_count": null,
   "outputs": [],
   "source": [
    "# dane silnie niezbalansowane: 80% klasa 0, 10% klasa 1, 5% klasa 2, 5% klasa 3\n",
    "y = np.eye(4)[np.array([0] * 80 + [1] * 10 + [2] * 5 + [3] * 5)]\n",
    "\n",
    "# model przewiduje zawsze klasę 0\n",
    "y_hat_all_0 = np.eye(4)[np.array([0] * 100)]\n",
    "\n",
    "# model poprawnie przewiduje klasy 0 i 1, ale zawsze myli klasy 2 i 3\n",
    "y_hat_partial = np.eye(4)[np.array([0] * 80 + [1] * 10 + [3] * 5 + [2] * 5)]"
   ],
   "metadata": {
    "collapsed": false
   },
   "id": "e16a90ee7ed90e28"
  },
  {
   "cell_type": "code",
   "execution_count": null,
   "outputs": [],
   "source": [
    "# Miejsce na eksperymenty"
   ],
   "metadata": {
    "collapsed": false
   },
   "id": "57e1f5c9796f78e3"
  },
  {
   "cell_type": "markdown",
   "source": [
    "### Scenariusz 2"
   ],
   "metadata": {
    "collapsed": false
   },
   "id": "c1487d4cd26ef875"
  },
  {
   "cell_type": "code",
   "execution_count": null,
   "outputs": [],
   "source": [
    "# dane niezbalansowane: 50 próbek klasy 0, 25 klasy 1, 15 klasy 2, 10 klasy 3\n",
    "y = np.eye(4)[np.array([0] * 50 + [1] * 25 + [2] * 15 + [3] * 10)]\n",
    "\n",
    "# Model przewiduje 60 próbek jako klasa 0, reszta losowo\n",
    "np.random.seed(42)\n",
    "y_hat = np.eye(4)[np.array([0] * 60 + list(np.random.choice([1, 2, 3], size=40)))]"
   ],
   "metadata": {
    "collapsed": false
   },
   "id": "8b8c265d49fd7bf7"
  },
  {
   "cell_type": "code",
   "execution_count": null,
   "outputs": [],
   "source": [
    "# Miejsce na eksperymenty"
   ],
   "metadata": {
    "collapsed": false
   },
   "id": "e984b110f3685b18"
  },
  {
   "cell_type": "markdown",
   "source": [
    "### Scenariusz 3"
   ],
   "metadata": {
    "collapsed": false
   },
   "id": "cec7fae84b99b8c2"
  },
  {
   "cell_type": "code",
   "execution_count": null,
   "outputs": [],
   "source": [
    "# dane niezbalansowane jak w Scenariuszu 2\n",
    "y = np.eye(4)[np.array([0] * 50 + [1] * 25 + [2] * 15 + [3] * 10)]\n",
    "\n",
    "# model losowy\n",
    "np.random.seed(0)\n",
    "y_hat = np.eye(4)[np.random.choice([0, 1, 2, 3], size=100)]"
   ],
   "metadata": {
    "collapsed": false
   },
   "id": "d57f67d7fb780945"
  },
  {
   "cell_type": "code",
   "execution_count": null,
   "outputs": [],
   "source": [
    "# Miejsce na eksperymenty"
   ],
   "metadata": {
    "collapsed": false
   },
   "id": "d8bd935c809a3a9c"
  },
  {
   "cell_type": "markdown",
   "source": [
    "### Pytania\n",
    "\n",
    "Odpowiedz na pytania:\n",
    "1. Jakie różnice daje uśrednianie wyników \"micro\" w porównaniu do \"macro\"? Dla jakich danych warto użyć jednego, a dla jakich drugiego sposobu uśredniania wyników?\n",
    "2. Dlaczego warto stosować zbalansowaną dokładność (balanced accuracy) zamiast zwykłej dokładności (accuracy)? \n",
    "3. Dlaczego warto stosować miarę G-mean zamiast F1? Dla jakich scenariuszy miara G-mean pozwala na bardziej adekwatną ocenę modelu?\n",
    "\n",
    "[TODO: Twoje odpowiedzi]"
   ],
   "metadata": {
    "collapsed": false
   },
   "id": "ea9722a8773175ca"
  },
  {
   "cell_type": "markdown",
   "source": [
    "# Zadanie 2: k-folds cross-validation\n",
    "\n",
    "Zaimplementuj funkcję `split_to_k_folds`, która dokona podziału danych na `k` zbiorów treningowych i testowych. Następnie dokonaj analizy wpływu stratyfikacji na postrzegane ryzyko modelu."
   ],
   "metadata": {
    "collapsed": false
   },
   "id": "390faf8e900a486c"
  },
  {
   "cell_type": "code",
   "execution_count": null,
   "outputs": [],
   "source": [
    "def split_to_k_folds(x: np.ndarray, y: np.ndarray, k: int = 5, stratify: bool = True\n",
    "                     ) -> list[tuple[tuple[np.ndarray, np.ndarray], tuple[np.ndarray, np.ndarray]]]:\n",
    "    \"\"\"Funkcja implementująca k-krotną walidację krzyżową.\n",
    "    \n",
    "    W przypadku stratyfikacji, funkcja powinna zachować proporcje klas w podziałach. W tym celu można \n",
    "    wykorzystać prosty algorytm zaproponowany podczas laboratorium.\n",
    "    \n",
    "    Funkcja powinna zwracać listę krotek, gdzie każda krotka zawiera dane podzielone na zbiór treningowy i testowy.\n",
    "    Rozwiązanie to w oczywisty sposób nie jest optymalne pod względem pamięciowym, ale taki format zwracania danych\n",
    "    pomoże w dalszej części zadania.\n",
    "    \n",
    "    Args:\n",
    "        x (np.ndarray): Macierz z danymi o wymiarach `(n, d)`.\n",
    "        y (np.ndarray): Macierz z etykietami o wymiarach `(n, c)`.\n",
    "        k (int): Liczba podziałów zbioru danych. Domyślnie 5.\n",
    "        stratify (bool): Czy zachować proporcje klas w podziałach. Domyślnie `True`.\n",
    "    \n",
    "    Returns:\n",
    "        list[tuple[np.ndarray]]: Lista krotek z podziałami danych na zbiór treningowy i testowy.\n",
    "    \"\"\"\n",
    "    # TODO: zaimplementuj funkcję\n",
    "    ..."
   ],
   "metadata": {
    "collapsed": false
   },
   "id": "c243ea61ae1867c7"
  },
  {
   "cell_type": "markdown",
   "source": [
    "Przykładowe dane testowe. Zwróć uwagę, że dane te są niezbalansowane. Możesz dokonać modyfikacji danych, aby zobaczyć, jak zachowuje się algorytm w zależności od charakterystyki danych."
   ],
   "metadata": {
    "collapsed": false
   },
   "id": "caf14d0ff078642e"
  },
  {
   "cell_type": "code",
   "execution_count": null,
   "outputs": [],
   "source": [
    "import matplotlib.pyplot as plt\n",
    "\n",
    "n0 = 1000\n",
    "n1 = 50\n",
    "\n",
    "np.random.seed(42)\n",
    "x1 = np.random.randn(n0, 2) * 1.2\n",
    "x2 = np.random.randn(n1, 2) + [2, 2]\n",
    "\n",
    "x = np.vstack([x1, x2])\n",
    "y = np.array([0] * n0 + [1] * n1)\n",
    "\n",
    "plt.scatter(x[:, 0], x[:, 1], c=y)\n",
    "plt.show()"
   ],
   "metadata": {
    "collapsed": false
   },
   "id": "903fbfac641dfd6a"
  },
  {
   "cell_type": "code",
   "execution_count": null,
   "outputs": [],
   "source": [
    "splits_stratified = split_to_k_folds(x, y, k=5, stratify=True)\n",
    "splits = split_to_k_folds(x, y, k=5, stratify=False)"
   ],
   "metadata": {
    "collapsed": false
   },
   "id": "ccc424be6e2c6b1d"
  },
  {
   "cell_type": "markdown",
   "source": [
    "Przeprowadź walidację krzyżową dla klasyfikatora `GaussianNB` na danych z poprzedniego kroku. Porównaj wyniki dla obu wariantów podziału danych. Na podstawie obserwacji z poprzedniego zadania, wybierz miary oceny klasyfikatora, które uznasz za najbardziej adekwatne do tego zadania. \n",
    "\n",
    "Poniższą komórkę możesz dowolnie modyfikować, aby np. obliczać kilka miar jednocześnie. "
   ],
   "metadata": {
    "collapsed": false
   },
   "id": "bdb42ca701f371e1"
  },
  {
   "cell_type": "code",
   "execution_count": null,
   "outputs": [],
   "source": [
    "from sklearn.naive_bayes import GaussianNB\n",
    "\n",
    "metrics = []\n",
    "\n",
    "for (x_train, y_train), (x_test, y_test) in splits:\n",
    "    model = GaussianNB()\n",
    "    model.fit(x_train, y_train)\n",
    "    y_hat = model.predict(x_test)\n",
    "    metrics.append(\n",
    "        # TODO: oblicz wybrane miary klasyfikacji\n",
    "    )\n",
    "\n",
    "print(f\"{np.mean(metrics): .4f} +/- {np.std(metrics): .4f}\")"
   ],
   "metadata": {
    "collapsed": false
   },
   "id": "988b351a93bcdb86"
  },
  {
   "cell_type": "markdown",
   "source": [
    "### Pytania\n",
    "\n",
    "Odpowiedz na pytania:\n",
    "1. Jaka była Twoja motywacja do wybrania konkretnych miar klasyfikacji?\n",
    "2. Dla jakich danych warto zastosować stratyfikację podczas walidacji krzyżowej?\n",
    "3. Jakie ryzyko niesie za sobą losowy podział danych na dwa zbiory (treningowy i testowy), zamiast używania walidacji krzyżowej ze stratyfikacją?\n",
    "\n",
    "[TODO: Twoje odpowiedzi]"
   ],
   "metadata": {
    "collapsed": false
   },
   "id": "fa6234ff28d28cd1"
  }
 ],
 "metadata": {
  "kernelspec": {
   "display_name": "Python 3",
   "language": "python",
   "name": "python3"
  },
  "language_info": {
   "codemirror_mode": {
    "name": "ipython",
    "version": 2
   },
   "file_extension": ".py",
   "mimetype": "text/x-python",
   "name": "python",
   "nbconvert_exporter": "python",
   "pygments_lexer": "ipython2",
   "version": "2.7.6"
  }
 },
 "nbformat": 4,
 "nbformat_minor": 5
}
